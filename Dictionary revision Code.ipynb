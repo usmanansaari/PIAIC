{
 "cells": [
  {
   "cell_type": "markdown",
   "metadata": {},
   "source": [
    "# Dictionary\n",
    "Dictionary in Python is an `unordered` collection of data values, used to store data values like a map, which unlike other Data Types that hold only single value as an element, Dictionary holds `key:value` pair"
   ]
  },
  {
   "cell_type": "code",
   "execution_count": 8,
   "metadata": {},
   "outputs": [],
   "source": [
    "personData = {\n",
    "    \"name\" : \"Bob\", \"age\" : 25, \"job\" : \"Dev\"\n",
    "}"
   ]
  },
  {
   "cell_type": "markdown",
   "metadata": {},
   "source": [
    "## Dictionary Methods"
   ]
  },
  {
   "cell_type": "code",
   "execution_count": 20,
   "metadata": {},
   "outputs": [
    {
     "data": {
      "text/plain": [
       "['__class__',\n",
       " '__contains__',\n",
       " '__delattr__',\n",
       " '__delitem__',\n",
       " '__dir__',\n",
       " '__doc__',\n",
       " '__eq__',\n",
       " '__format__',\n",
       " '__ge__',\n",
       " '__getattribute__',\n",
       " '__getitem__',\n",
       " '__gt__',\n",
       " '__hash__',\n",
       " '__init__',\n",
       " '__init_subclass__',\n",
       " '__iter__',\n",
       " '__le__',\n",
       " '__len__',\n",
       " '__lt__',\n",
       " '__ne__',\n",
       " '__new__',\n",
       " '__reduce__',\n",
       " '__reduce_ex__',\n",
       " '__repr__',\n",
       " '__setattr__',\n",
       " '__setitem__',\n",
       " '__sizeof__',\n",
       " '__str__',\n",
       " '__subclasshook__',\n",
       " 'clear',\n",
       " 'copy',\n",
       " 'fromkeys',\n",
       " 'get',\n",
       " 'items',\n",
       " 'keys',\n",
       " 'pop',\n",
       " 'popitem',\n",
       " 'setdefault',\n",
       " 'update',\n",
       " 'values']"
      ]
     },
     "execution_count": 20,
     "metadata": {},
     "output_type": "execute_result"
    }
   ],
   "source": [
    "dir(dict)"
   ]
  },
  {
   "cell_type": "markdown",
   "metadata": {},
   "source": [
    "---\n",
    "## Some methods Description\n",
    "![Dictionary methods](images/code.png \"Title\")"
   ]
  },
  {
   "cell_type": "markdown",
   "metadata": {},
   "source": [
    "### Add new Key,value pair to dictionary\n",
    "There are two methods discussed below"
   ]
  },
  {
   "cell_type": "code",
   "execution_count": 9,
   "metadata": {},
   "outputs": [
    {
     "data": {
      "text/plain": [
       "{'name': 'Bob',\n",
       " 'age': 25,\n",
       " 'job': 'Dev',\n",
       " 'hobbies': ['Travelling', 'Book Reading']}"
      ]
     },
     "execution_count": 9,
     "metadata": {},
     "output_type": "execute_result"
    }
   ],
   "source": [
    "personData[\"hobbies\"] = [\"Travelling\", \"Book Reading\"]\n",
    "personData"
   ]
  },
  {
   "cell_type": "code",
   "execution_count": 10,
   "metadata": {},
   "outputs": [],
   "source": [
    "workExperience = {\n",
    "    \"location\" : \"Pakistan\",\n",
    "    \"startYear\" : 2018,\n",
    "    \"endYear\" : 2019,\n",
    "    \"title\" : \"Web Developer\"\n",
    "}"
   ]
  },
  {
   "cell_type": "code",
   "execution_count": 11,
   "metadata": {},
   "outputs": [
    {
     "data": {
      "text/plain": [
       "{'name': 'Bob',\n",
       " 'age': 25,\n",
       " 'job': 'Dev',\n",
       " 'hobbies': ['Travelling', 'Book Reading'],\n",
       " 'experience': {'location': 'Pakistan',\n",
       "  'startYear': 2018,\n",
       "  'endYear': 2019,\n",
       "  'title': 'Web Developer'}}"
      ]
     },
     "execution_count": 11,
     "metadata": {},
     "output_type": "execute_result"
    }
   ],
   "source": [
    "personData.update({\"experience\" : workExperience})\n",
    "personData"
   ]
  },
  {
   "cell_type": "markdown",
   "metadata": {},
   "source": [
    "## Retrive value for a key"
   ]
  },
  {
   "cell_type": "code",
   "execution_count": 12,
   "metadata": {},
   "outputs": [
    {
     "data": {
      "text/plain": [
       "{'location': 'Pakistan',\n",
       " 'startYear': 2018,\n",
       " 'endYear': 2019,\n",
       " 'title': 'Web Developer'}"
      ]
     },
     "execution_count": 12,
     "metadata": {},
     "output_type": "execute_result"
    }
   ],
   "source": [
    "personData[\"experience\"]"
   ]
  },
  {
   "cell_type": "code",
   "execution_count": 13,
   "metadata": {},
   "outputs": [
    {
     "ename": "KeyError",
     "evalue": "'experienc'",
     "output_type": "error",
     "traceback": [
      "\u001b[1;31m---------------------------------------------------------------------------\u001b[0m",
      "\u001b[1;31mKeyError\u001b[0m                                  Traceback (most recent call last)",
      "\u001b[1;32m<ipython-input-13-f5dda84e2eac>\u001b[0m in \u001b[0;36m<module>\u001b[1;34m\u001b[0m\n\u001b[1;32m----> 1\u001b[1;33m \u001b[0mpersonData\u001b[0m\u001b[1;33m[\u001b[0m\u001b[1;34m\"experienc\"\u001b[0m\u001b[1;33m]\u001b[0m\u001b[1;33m\u001b[0m\u001b[1;33m\u001b[0m\u001b[0m\n\u001b[0m",
      "\u001b[1;31mKeyError\u001b[0m: 'experienc'"
     ]
    }
   ],
   "source": [
    "personData[\"experienc\"]"
   ]
  },
  {
   "cell_type": "markdown",
   "metadata": {},
   "source": [
    "### Avoid this error\n",
    "use `get() method`"
   ]
  },
  {
   "cell_type": "code",
   "execution_count": 15,
   "metadata": {},
   "outputs": [
    {
     "data": {
      "text/plain": [
       "{'location': 'Pakistan',\n",
       " 'startYear': 2018,\n",
       " 'endYear': 2019,\n",
       " 'title': 'Web Developer'}"
      ]
     },
     "execution_count": 15,
     "metadata": {},
     "output_type": "execute_result"
    }
   ],
   "source": [
    "personData.get(\"experience\")"
   ]
  },
  {
   "cell_type": "code",
   "execution_count": 14,
   "metadata": {},
   "outputs": [
    {
     "name": "stdout",
     "output_type": "stream",
     "text": [
      "None\n"
     ]
    }
   ],
   "source": [
    "print(personData.get(\"experienc\"))"
   ]
  },
  {
   "cell_type": "markdown",
   "metadata": {},
   "source": [
    "### Use own statement"
   ]
  },
  {
   "cell_type": "code",
   "execution_count": 16,
   "metadata": {},
   "outputs": [
    {
     "name": "stdout",
     "output_type": "stream",
     "text": [
      "Key not found\n"
     ]
    }
   ],
   "source": [
    "print(personData.get(\"experienc\", \"Key not found\"))"
   ]
  },
  {
   "cell_type": "markdown",
   "metadata": {},
   "source": [
    "## Retrive data from nested dictionary"
   ]
  },
  {
   "cell_type": "code",
   "execution_count": 19,
   "metadata": {},
   "outputs": [
    {
     "data": {
      "text/plain": [
       "'Web Developer'"
      ]
     },
     "execution_count": 19,
     "metadata": {},
     "output_type": "execute_result"
    }
   ],
   "source": [
    "personData[\"experience\"][\"title\"]"
   ]
  },
  {
   "cell_type": "markdown",
   "metadata": {},
   "source": [
    "# Task"
   ]
  },
  {
   "cell_type": "markdown",
   "metadata": {},
   "source": [
    "## Solved by students\n",
    "This given code is written by students in different ways. You can also use other methods to refine this and try"
   ]
  },
  {
   "cell_type": "code",
   "execution_count": 3,
   "metadata": {},
   "outputs": [
    {
     "name": "stdout",
     "output_type": "stream",
     "text": [
      "Enter your name: Aamir\n",
      "Enter your marks: 90\n",
      "Enter your subjectBiology\n",
      "Enter your marks: 80\n",
      "Enter your subjectMath\n",
      "Enter your marks: 90\n",
      "Enter your subjectcomp\n",
      "Enter your hobby: reading\n",
      "Enter your hobby: travelling\n",
      "Enter your hobby: reading\n",
      "press x to exity\n",
      "Enter your name: Abdullah\n",
      "Enter your marks: 90\n",
      "Enter your subjectbio\n",
      "Enter your marks: 90\n",
      "Enter your subjectbio\n",
      "Enter your marks: 90\n",
      "Enter your subjectreading\n",
      "Enter your hobby: coding\n",
      "Enter your hobby: coding\n",
      "Enter your hobby: coding\n",
      "press x to exitx\n",
      "[{'name': 'Aamir', 'marks': {'Biology': '90', 'Math': '80', 'comp': '90'}, 'Hobbies': ['reading', 'travelling', 'reading']}, {'name': 'Abdullah', 'marks': {'bio': '90', 'reading': '90'}, 'Hobbies': ['coding', 'coding', 'coding']}]\n"
     ]
    }
   ],
   "source": [
    "data=[]\n",
    "exit=''\n",
    "while exit != 'x':\n",
    "    personData={}\n",
    "    personData['name']=input('Enter your name: ')\n",
    "    personData['marks']={input('Enter your subject') : input('Enter your marks: ') for i in range(3)}\n",
    "    personData['Hobbies']=[input('Enter your hobby: ') for i in range(3)]\n",
    "    data.append(personData)\n",
    "    exit=input('press x to exit')\n",
    "print(data)"
   ]
  },
  {
   "cell_type": "code",
   "execution_count": 5,
   "metadata": {},
   "outputs": [
    {
     "name": "stdout",
     "output_type": "stream",
     "text": [
      "Please enter your name: Ali\n",
      "Please enter English Marks: 49\n",
      "Please enter Maths Marks: 45\n",
      "Please enter Science Marks: 48\n",
      "Enter your hobbies seperated by , : Book Reading,Trevelling\n",
      "Enter x to stop or any other key to continue: \n",
      "Please enter your name: Kamran\n",
      "Please enter English Marks: 44\n",
      "Please enter Maths Marks: 43\n",
      "Please enter Science Marks: 41\n",
      "Enter your hobbies seperated by , : Travelling,Movies,Book Reading\n",
      "Enter x to stop or any other key to continue: x\n"
     ]
    },
    {
     "data": {
      "text/plain": [
       "[{'name': 'Ali',\n",
       "  'marks': {'English': '49', 'Maths': '45', 'Science': '48'},\n",
       "  'hobbies': ['Book Reading', 'Trevelling']},\n",
       " {'name': 'Kamran',\n",
       "  'marks': {'English': '44', 'Maths': '43', 'Science': '41'},\n",
       "  'hobbies': ['Travelling', 'Movies', 'Book Reading']}]"
      ]
     },
     "execution_count": 5,
     "metadata": {},
     "output_type": "execute_result"
    }
   ],
   "source": [
    "lst1=[]\n",
    "chk=''\n",
    "while chk.lower() != 'x':\n",
    "    dict1 = {\n",
    "        \"name\":input('Please enter your name: '),\n",
    "        \"marks\":{\n",
    "            \"English\":input('Please enter English Marks: '),\n",
    "            \"Maths\":input('Please enter Maths Marks: '),\n",
    "            \"Science\":input('Please enter Science Marks: ')\n",
    "        },\n",
    "        \"hobbies\":input(\"Enter your hobbies seperated by , : \").split(\",\")        \n",
    "    }\n",
    "    lst1.append(dict1)\n",
    "    chk = input(\"Enter x to stop or any other key to continue: \")\n",
    "lst1"
   ]
  },
  {
   "cell_type": "code",
   "execution_count": null,
   "metadata": {},
   "outputs": [],
   "source": []
  }
 ],
 "metadata": {
  "kernelspec": {
   "display_name": "Python 3",
   "language": "python",
   "name": "python3"
  },
  "language_info": {
   "codemirror_mode": {
    "name": "ipython",
    "version": 3
   },
   "file_extension": ".py",
   "mimetype": "text/x-python",
   "name": "python",
   "nbconvert_exporter": "python",
   "pygments_lexer": "ipython3",
   "version": "3.7.5"
  }
 },
 "nbformat": 4,
 "nbformat_minor": 2
}
